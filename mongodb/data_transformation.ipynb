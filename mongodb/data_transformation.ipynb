{
 "cells": [
  {
   "cell_type": "code",
   "id": "initial_id",
   "metadata": {
    "collapsed": true,
    "ExecuteTime": {
     "end_time": "2024-11-20T14:20:09.174997Z",
     "start_time": "2024-11-20T14:19:59.280799Z"
    }
   },
   "source": [
    "import pandas\n",
    "import json\n",
    "import pandas as pd\n",
    "import kagglehub\n",
    "\n",
    "# Download latest version\n",
    "path = kagglehub.dataset_download(\"nikdavis/steam-store-games\")\n",
    "\n",
    "print(\"Path to dataset files:\", path)\n",
    "\n"
   ],
   "outputs": [
    {
     "name": "stderr",
     "output_type": "stream",
     "text": [
      "/Users/maciejmichalski/PycharmProjects/pythonProject/.venv/lib/python3.11/site-packages/tqdm/auto.py:21: TqdmWarning: IProgress not found. Please update jupyter and ipywidgets. See https://ipywidgets.readthedocs.io/en/stable/user_install.html\n",
      "  from .autonotebook import tqdm as notebook_tqdm\n"
     ]
    },
    {
     "name": "stdout",
     "output_type": "stream",
     "text": [
      "Downloading from https://www.kaggle.com/api/v1/datasets/download/nikdavis/steam-store-games?dataset_version_number=3...\n"
     ]
    },
    {
     "name": "stderr",
     "output_type": "stream",
     "text": [
      "100%|██████████| 35.2M/35.2M [00:06<00:00, 5.59MB/s]"
     ]
    },
    {
     "name": "stdout",
     "output_type": "stream",
     "text": [
      "Extracting files...\n"
     ]
    },
    {
     "name": "stderr",
     "output_type": "stream",
     "text": [
      "\n"
     ]
    },
    {
     "name": "stdout",
     "output_type": "stream",
     "text": [
      "Path to dataset files: /Users/maciejmichalski/.cache/kagglehub/datasets/nikdavis/steam-store-games/versions/3\n"
     ]
    }
   ],
   "execution_count": 1
  },
  {
   "cell_type": "code",
   "execution_count": null,
   "outputs": [],
   "source": [
    "media_df = pd.read_csv(path+'/steam_media_data.csv', index_col=False)\n",
    "steam_df = pd.read_csv(path+'/steam.csv', index_col=False)\n",
    "description = pd.read_csv(path+'/steam_description_data.csv', index_col=False)"
   ],
   "metadata": {
    "collapsed": false
   },
   "id": "e650d34ea780b00b"
  },
  {
   "cell_type": "code",
   "execution_count": 14,
   "outputs": [
    {
     "data": {
      "text/plain": "Index(['steam_appid', 'header_image', 'screenshots', 'background', 'movies'], dtype='object')"
     },
     "execution_count": 14,
     "metadata": {},
     "output_type": "execute_result"
    }
   ],
   "source": [
    "media_df.columns"
   ],
   "metadata": {
    "collapsed": false,
    "ExecuteTime": {
     "end_time": "2024-11-19T15:10:55.759332039Z",
     "start_time": "2024-11-19T15:10:55.755216829Z"
    }
   },
   "id": "1d2f7e74163167ec"
  },
  {
   "cell_type": "code",
   "execution_count": 15,
   "outputs": [
    {
     "data": {
      "text/plain": "Index(['appid', 'name', 'release_date', 'english', 'developer', 'publisher',\n       'platforms', 'required_age', 'categories', 'genres', 'steamspy_tags',\n       'achievements', 'positive_ratings', 'negative_ratings',\n       'average_playtime', 'median_playtime', 'owners', 'price'],\n      dtype='object')"
     },
     "execution_count": 15,
     "metadata": {},
     "output_type": "execute_result"
    }
   ],
   "source": [
    "steam_df.columns"
   ],
   "metadata": {
    "collapsed": false,
    "ExecuteTime": {
     "end_time": "2024-11-19T15:10:55.791227805Z",
     "start_time": "2024-11-19T15:10:55.759131286Z"
    }
   },
   "id": "818162416e207a8c"
  },
  {
   "cell_type": "code",
   "execution_count": 16,
   "outputs": [
    {
     "data": {
      "text/plain": "Index(['steam_appid', 'detailed_description', 'about_the_game',\n       'short_description'],\n      dtype='object')"
     },
     "execution_count": 16,
     "metadata": {},
     "output_type": "execute_result"
    }
   ],
   "source": [
    "description.columns"
   ],
   "metadata": {
    "collapsed": false,
    "ExecuteTime": {
     "end_time": "2024-11-19T15:10:55.791955462Z",
     "start_time": "2024-11-19T15:10:55.778257306Z"
    }
   },
   "id": "e042627f9d0299e9"
  },
  {
   "cell_type": "code",
   "execution_count": 17,
   "outputs": [
    {
     "data": {
      "text/plain": "    appid                            name release_date  english  \\\n0      10                  Counter-Strike   2000-11-01        1   \n1      20           Team Fortress Classic   1999-04-01        1   \n2      30                   Day of Defeat   2003-05-01        1   \n3      40              Deathmatch Classic   2001-06-01        1   \n4      50       Half-Life: Opposing Force   1999-11-01        1   \n5      60                        Ricochet   2000-11-01        1   \n6      70                       Half-Life   1998-11-08        1   \n7      80  Counter-Strike: Condition Zero   2004-03-01        1   \n8     130           Half-Life: Blue Shift   2001-06-01        1   \n9     220                     Half-Life 2   2004-11-16        1   \n10    240          Counter-Strike: Source   2004-11-01        1   \n11    280               Half-Life: Source   2004-06-01        1   \n12    300           Day of Defeat: Source   2010-07-12        1   \n13    320         Half-Life 2: Deathmatch   2004-11-01        1   \n14    340         Half-Life 2: Lost Coast   2005-10-27        1   \n15    360    Half-Life Deathmatch: Source   2006-05-01        1   \n16    380        Half-Life 2: Episode One   2006-06-01        1   \n17    400                          Portal   2007-10-10        1   \n18    420        Half-Life 2: Episode Two   2007-10-10        1   \n19    440                 Team Fortress 2   2007-10-10        1   \n\n           developer publisher          platforms  \\\n0              Valve     Valve  windows;mac;linux   \n1              Valve     Valve  windows;mac;linux   \n2              Valve     Valve  windows;mac;linux   \n3              Valve     Valve  windows;mac;linux   \n4   Gearbox Software     Valve  windows;mac;linux   \n5              Valve     Valve  windows;mac;linux   \n6              Valve     Valve  windows;mac;linux   \n7              Valve     Valve  windows;mac;linux   \n8   Gearbox Software     Valve  windows;mac;linux   \n9              Valve     Valve  windows;mac;linux   \n10             Valve     Valve  windows;mac;linux   \n11             Valve     Valve  windows;mac;linux   \n12             Valve     Valve  windows;mac;linux   \n13             Valve     Valve  windows;mac;linux   \n14             Valve     Valve  windows;mac;linux   \n15             Valve     Valve  windows;mac;linux   \n16             Valve     Valve  windows;mac;linux   \n17             Valve     Valve  windows;mac;linux   \n18             Valve     Valve  windows;mac;linux   \n19             Valve     Valve  windows;mac;linux   \n\n                                           categories               genres  \\\n0   Multi-player;Online Multi-Player;Local Multi-P...               Action   \n1   Multi-player;Online Multi-Player;Local Multi-P...               Action   \n2               Multi-player;Valve Anti-Cheat enabled               Action   \n3   Multi-player;Online Multi-Player;Local Multi-P...               Action   \n4   Single-player;Multi-player;Valve Anti-Cheat en...               Action   \n5   Multi-player;Online Multi-Player;Valve Anti-Ch...               Action   \n6   Single-player;Multi-player;Online Multi-Player...               Action   \n7   Single-player;Multi-player;Valve Anti-Cheat en...               Action   \n8                                       Single-player               Action   \n9   Single-player;Steam Achievements;Steam Trading...               Action   \n10  Multi-player;Cross-Platform Multiplayer;Steam ...               Action   \n11                                      Single-player               Action   \n12  Multi-player;Cross-Platform Multiplayer;Steam ...               Action   \n13  Multi-player;Valve Anti-Cheat enabled;Includes...               Action   \n14                 Single-player;Commentary available               Action   \n15              Multi-player;Valve Anti-Cheat enabled               Action   \n16  Single-player;Steam Achievements;Captions avai...               Action   \n17  Single-player;Steam Achievements;Captions avai...               Action   \n18  Single-player;Steam Achievements;Captions avai...               Action   \n19  Multi-player;Cross-Platform Multiplayer;Steam ...  Action;Free to Play   \n\n    price  \n0    7.19  \n1    3.99  \n2    3.99  \n3    3.99  \n4    3.99  \n5    3.99  \n6    7.19  \n7    7.19  \n8    3.99  \n9    7.19  \n10   7.19  \n11   0.00  \n12   7.19  \n13   3.99  \n14   0.00  \n15   0.00  \n16   5.79  \n17   7.19  \n18   5.79  \n19   0.00  ",
      "text/html": "<div>\n<style scoped>\n    .dataframe tbody tr th:only-of-type {\n        vertical-align: middle;\n    }\n\n    .dataframe tbody tr th {\n        vertical-align: top;\n    }\n\n    .dataframe thead th {\n        text-align: right;\n    }\n</style>\n<table border=\"1\" class=\"dataframe\">\n  <thead>\n    <tr style=\"text-align: right;\">\n      <th></th>\n      <th>appid</th>\n      <th>name</th>\n      <th>release_date</th>\n      <th>english</th>\n      <th>developer</th>\n      <th>publisher</th>\n      <th>platforms</th>\n      <th>categories</th>\n      <th>genres</th>\n      <th>price</th>\n    </tr>\n  </thead>\n  <tbody>\n    <tr>\n      <th>0</th>\n      <td>10</td>\n      <td>Counter-Strike</td>\n      <td>2000-11-01</td>\n      <td>1</td>\n      <td>Valve</td>\n      <td>Valve</td>\n      <td>windows;mac;linux</td>\n      <td>Multi-player;Online Multi-Player;Local Multi-P...</td>\n      <td>Action</td>\n      <td>7.19</td>\n    </tr>\n    <tr>\n      <th>1</th>\n      <td>20</td>\n      <td>Team Fortress Classic</td>\n      <td>1999-04-01</td>\n      <td>1</td>\n      <td>Valve</td>\n      <td>Valve</td>\n      <td>windows;mac;linux</td>\n      <td>Multi-player;Online Multi-Player;Local Multi-P...</td>\n      <td>Action</td>\n      <td>3.99</td>\n    </tr>\n    <tr>\n      <th>2</th>\n      <td>30</td>\n      <td>Day of Defeat</td>\n      <td>2003-05-01</td>\n      <td>1</td>\n      <td>Valve</td>\n      <td>Valve</td>\n      <td>windows;mac;linux</td>\n      <td>Multi-player;Valve Anti-Cheat enabled</td>\n      <td>Action</td>\n      <td>3.99</td>\n    </tr>\n    <tr>\n      <th>3</th>\n      <td>40</td>\n      <td>Deathmatch Classic</td>\n      <td>2001-06-01</td>\n      <td>1</td>\n      <td>Valve</td>\n      <td>Valve</td>\n      <td>windows;mac;linux</td>\n      <td>Multi-player;Online Multi-Player;Local Multi-P...</td>\n      <td>Action</td>\n      <td>3.99</td>\n    </tr>\n    <tr>\n      <th>4</th>\n      <td>50</td>\n      <td>Half-Life: Opposing Force</td>\n      <td>1999-11-01</td>\n      <td>1</td>\n      <td>Gearbox Software</td>\n      <td>Valve</td>\n      <td>windows;mac;linux</td>\n      <td>Single-player;Multi-player;Valve Anti-Cheat en...</td>\n      <td>Action</td>\n      <td>3.99</td>\n    </tr>\n    <tr>\n      <th>5</th>\n      <td>60</td>\n      <td>Ricochet</td>\n      <td>2000-11-01</td>\n      <td>1</td>\n      <td>Valve</td>\n      <td>Valve</td>\n      <td>windows;mac;linux</td>\n      <td>Multi-player;Online Multi-Player;Valve Anti-Ch...</td>\n      <td>Action</td>\n      <td>3.99</td>\n    </tr>\n    <tr>\n      <th>6</th>\n      <td>70</td>\n      <td>Half-Life</td>\n      <td>1998-11-08</td>\n      <td>1</td>\n      <td>Valve</td>\n      <td>Valve</td>\n      <td>windows;mac;linux</td>\n      <td>Single-player;Multi-player;Online Multi-Player...</td>\n      <td>Action</td>\n      <td>7.19</td>\n    </tr>\n    <tr>\n      <th>7</th>\n      <td>80</td>\n      <td>Counter-Strike: Condition Zero</td>\n      <td>2004-03-01</td>\n      <td>1</td>\n      <td>Valve</td>\n      <td>Valve</td>\n      <td>windows;mac;linux</td>\n      <td>Single-player;Multi-player;Valve Anti-Cheat en...</td>\n      <td>Action</td>\n      <td>7.19</td>\n    </tr>\n    <tr>\n      <th>8</th>\n      <td>130</td>\n      <td>Half-Life: Blue Shift</td>\n      <td>2001-06-01</td>\n      <td>1</td>\n      <td>Gearbox Software</td>\n      <td>Valve</td>\n      <td>windows;mac;linux</td>\n      <td>Single-player</td>\n      <td>Action</td>\n      <td>3.99</td>\n    </tr>\n    <tr>\n      <th>9</th>\n      <td>220</td>\n      <td>Half-Life 2</td>\n      <td>2004-11-16</td>\n      <td>1</td>\n      <td>Valve</td>\n      <td>Valve</td>\n      <td>windows;mac;linux</td>\n      <td>Single-player;Steam Achievements;Steam Trading...</td>\n      <td>Action</td>\n      <td>7.19</td>\n    </tr>\n    <tr>\n      <th>10</th>\n      <td>240</td>\n      <td>Counter-Strike: Source</td>\n      <td>2004-11-01</td>\n      <td>1</td>\n      <td>Valve</td>\n      <td>Valve</td>\n      <td>windows;mac;linux</td>\n      <td>Multi-player;Cross-Platform Multiplayer;Steam ...</td>\n      <td>Action</td>\n      <td>7.19</td>\n    </tr>\n    <tr>\n      <th>11</th>\n      <td>280</td>\n      <td>Half-Life: Source</td>\n      <td>2004-06-01</td>\n      <td>1</td>\n      <td>Valve</td>\n      <td>Valve</td>\n      <td>windows;mac;linux</td>\n      <td>Single-player</td>\n      <td>Action</td>\n      <td>0.00</td>\n    </tr>\n    <tr>\n      <th>12</th>\n      <td>300</td>\n      <td>Day of Defeat: Source</td>\n      <td>2010-07-12</td>\n      <td>1</td>\n      <td>Valve</td>\n      <td>Valve</td>\n      <td>windows;mac;linux</td>\n      <td>Multi-player;Cross-Platform Multiplayer;Steam ...</td>\n      <td>Action</td>\n      <td>7.19</td>\n    </tr>\n    <tr>\n      <th>13</th>\n      <td>320</td>\n      <td>Half-Life 2: Deathmatch</td>\n      <td>2004-11-01</td>\n      <td>1</td>\n      <td>Valve</td>\n      <td>Valve</td>\n      <td>windows;mac;linux</td>\n      <td>Multi-player;Valve Anti-Cheat enabled;Includes...</td>\n      <td>Action</td>\n      <td>3.99</td>\n    </tr>\n    <tr>\n      <th>14</th>\n      <td>340</td>\n      <td>Half-Life 2: Lost Coast</td>\n      <td>2005-10-27</td>\n      <td>1</td>\n      <td>Valve</td>\n      <td>Valve</td>\n      <td>windows;mac;linux</td>\n      <td>Single-player;Commentary available</td>\n      <td>Action</td>\n      <td>0.00</td>\n    </tr>\n    <tr>\n      <th>15</th>\n      <td>360</td>\n      <td>Half-Life Deathmatch: Source</td>\n      <td>2006-05-01</td>\n      <td>1</td>\n      <td>Valve</td>\n      <td>Valve</td>\n      <td>windows;mac;linux</td>\n      <td>Multi-player;Valve Anti-Cheat enabled</td>\n      <td>Action</td>\n      <td>0.00</td>\n    </tr>\n    <tr>\n      <th>16</th>\n      <td>380</td>\n      <td>Half-Life 2: Episode One</td>\n      <td>2006-06-01</td>\n      <td>1</td>\n      <td>Valve</td>\n      <td>Valve</td>\n      <td>windows;mac;linux</td>\n      <td>Single-player;Steam Achievements;Captions avai...</td>\n      <td>Action</td>\n      <td>5.79</td>\n    </tr>\n    <tr>\n      <th>17</th>\n      <td>400</td>\n      <td>Portal</td>\n      <td>2007-10-10</td>\n      <td>1</td>\n      <td>Valve</td>\n      <td>Valve</td>\n      <td>windows;mac;linux</td>\n      <td>Single-player;Steam Achievements;Captions avai...</td>\n      <td>Action</td>\n      <td>7.19</td>\n    </tr>\n    <tr>\n      <th>18</th>\n      <td>420</td>\n      <td>Half-Life 2: Episode Two</td>\n      <td>2007-10-10</td>\n      <td>1</td>\n      <td>Valve</td>\n      <td>Valve</td>\n      <td>windows;mac;linux</td>\n      <td>Single-player;Steam Achievements;Captions avai...</td>\n      <td>Action</td>\n      <td>5.79</td>\n    </tr>\n    <tr>\n      <th>19</th>\n      <td>440</td>\n      <td>Team Fortress 2</td>\n      <td>2007-10-10</td>\n      <td>1</td>\n      <td>Valve</td>\n      <td>Valve</td>\n      <td>windows;mac;linux</td>\n      <td>Multi-player;Cross-Platform Multiplayer;Steam ...</td>\n      <td>Action;Free to Play</td>\n      <td>0.00</td>\n    </tr>\n  </tbody>\n</table>\n</div>"
     },
     "execution_count": 17,
     "metadata": {},
     "output_type": "execute_result"
    }
   ],
   "source": [
    "steam_df.drop(\n",
    "    ['required_age', 'steamspy_tags', 'achievements', 'positive_ratings', 'negative_ratings', 'average_playtime',\n",
    "     'median_playtime', 'owners'], axis=1, inplace=True)\n",
    "steam_df.head(20)"
   ],
   "metadata": {
    "collapsed": false,
    "ExecuteTime": {
     "end_time": "2024-11-19T15:10:55.809101362Z",
     "start_time": "2024-11-19T15:10:55.788643026Z"
    }
   },
   "id": "3a16029ab9c7dbef"
  },
  {
   "cell_type": "code",
   "execution_count": 32,
   "outputs": [
    {
     "data": {
      "text/plain": "0                                                      NaN\n1                                                      NaN\n2                                                      NaN\n3                                                      NaN\n4                                                      NaN\n                               ...                        \n27327    [{'id': 256747452, 'name': 'Video', 'thumbnail...\n27328    [{'id': 256747487, 'name': 'Game Trailer', 'th...\n27329    [{'id': 256747530, 'name': 'Gameplay Trailer',...\n27330    [{'id': 256747638, 'name': 'Main Trailer', 'th...\n27331    [{'id': 256748098, 'name': 'Main Trailer', 'th...\nName: movies, Length: 27332, dtype: object"
     },
     "execution_count": 32,
     "metadata": {},
     "output_type": "execute_result"
    }
   ],
   "source": [
    "media_df['movies']"
   ],
   "metadata": {
    "collapsed": false,
    "ExecuteTime": {
     "end_time": "2024-11-19T15:26:08.182036039Z",
     "start_time": "2024-11-19T15:26:08.167038521Z"
    }
   },
   "id": "3125b04ba829a0ea"
  },
  {
   "cell_type": "code",
   "execution_count": 20,
   "outputs": [
    {
     "data": {
      "text/plain": "0        [{'id': 0, 'path_thumbnail': 'https://steamcdn...\n1        [{'id': 0, 'path_thumbnail': 'https://steamcdn...\n2        [{'id': 0, 'path_thumbnail': 'https://steamcdn...\n3        [{'id': 0, 'path_thumbnail': 'https://steamcdn...\n4        [{'id': 0, 'path_thumbnail': 'https://steamcdn...\n                               ...                        \n27327    [{'id': 0, 'path_thumbnail': 'https://steamcdn...\n27328    [{'id': 0, 'path_thumbnail': 'https://steamcdn...\n27329    [{'id': 0, 'path_thumbnail': 'https://steamcdn...\n27330    [{'id': 0, 'path_thumbnail': 'https://steamcdn...\n27331    [{'id': 0, 'path_thumbnail': 'https://steamcdn...\nName: screenshots, Length: 27332, dtype: object"
     },
     "execution_count": 20,
     "metadata": {},
     "output_type": "execute_result"
    }
   ],
   "source": [
    "media_df['screenshots']"
   ],
   "metadata": {
    "collapsed": false,
    "ExecuteTime": {
     "end_time": "2024-11-19T15:11:36.735958175Z",
     "start_time": "2024-11-19T15:11:36.691754723Z"
    }
   },
   "id": "8732af44d1286e7f"
  },
  {
   "cell_type": "code",
   "source": [
    "import math\n",
    "import csv\n",
    "input_names = [path+'/steam_media_data.csv', path+'/steam.csv', path+'/steam_description_data.csv']\n",
    "fields_to_jsonize = [['screenshots', 'movies'], [], []]\n",
    "fields_to_lisfiy = [[], ['genres', 'categories', 'tags', 'platforms'], []]\n",
    "output_names = ['media.json', 'steam.json', 'description.json']\n",
    "\n",
    "\n",
    "for i in range(len(input_names)):\n",
    "    json_array_fields = fields_to_jsonize[i]\n",
    "    list_fields = fields_to_lisfiy[i]\n",
    "    with open(input_names[i], 'r') as csv_file, open(output_names[i], 'w') as json_file:\n",
    "        reader = csv.DictReader(csv_file)\n",
    "        for row in reader:\n",
    "            for field in json_array_fields:\n",
    "                if field in row:\n",
    "                    try:\n",
    "                        if row[field] == '':\n",
    "                            row[field] = None\n",
    "                        else:\n",
    "                            row[field] = json.loads(row[field].replace(\"'\", '\"').replace(\"True\",\"true\").replace(\"False\",\"false\"))  # Handle single quotes\n",
    "                    except json.JSONDecodeError as e:\n",
    "                        print(f\"Error parsing JSON in field '{field}': {e}\")\n",
    "                        row[field] = None  # Set to None if parsing fails\n",
    "            for field in list_fields:\n",
    "                if field in row and row[field]:\n",
    "                    row[field] = row[field].split(';')\n",
    "            json_file.write(json.dumps(row) + '\\n')"
   ],
   "metadata": {
    "collapsed": false,
    "ExecuteTime": {
     "end_time": "2024-11-20T15:34:53.346158Z",
     "start_time": "2024-11-20T15:34:44.898390Z"
    }
   },
   "id": "184c822b3d238315",
   "outputs": [
    {
     "ename": "KeyboardInterrupt",
     "evalue": "",
     "output_type": "error",
     "traceback": [
      "\u001B[0;31m---------------------------------------------------------------------------\u001B[0m",
      "\u001B[0;31mKeyboardInterrupt\u001B[0m                         Traceback (most recent call last)",
      "Cell \u001B[0;32mIn[6], line 3\u001B[0m\n\u001B[1;32m      1\u001B[0m \u001B[38;5;28;01mimport\u001B[39;00m \u001B[38;5;21;01mmath\u001B[39;00m\n\u001B[1;32m      2\u001B[0m \u001B[38;5;28;01mimport\u001B[39;00m \u001B[38;5;21;01mcsv\u001B[39;00m\n\u001B[0;32m----> 3\u001B[0m input_names \u001B[38;5;241m=\u001B[39m [\u001B[43mpath\u001B[49m\u001B[38;5;241m+\u001B[39m\u001B[38;5;124m'\u001B[39m\u001B[38;5;124m/steam_media_data.csv\u001B[39m\u001B[38;5;124m'\u001B[39m, path\u001B[38;5;241m+\u001B[39m\u001B[38;5;124m'\u001B[39m\u001B[38;5;124m/steam.csv\u001B[39m\u001B[38;5;124m'\u001B[39m, path\u001B[38;5;241m+\u001B[39m\u001B[38;5;124m'\u001B[39m\u001B[38;5;124m/steam_description_data.csv\u001B[39m\u001B[38;5;124m'\u001B[39m]\n\u001B[1;32m      4\u001B[0m fields_to_jsonize \u001B[38;5;241m=\u001B[39m [[\u001B[38;5;124m'\u001B[39m\u001B[38;5;124mscreenshots\u001B[39m\u001B[38;5;124m'\u001B[39m, \u001B[38;5;124m'\u001B[39m\u001B[38;5;124mmovies\u001B[39m\u001B[38;5;124m'\u001B[39m], [], []]\n\u001B[1;32m      5\u001B[0m fields_to_lisfiy \u001B[38;5;241m=\u001B[39m [[], [\u001B[38;5;124m'\u001B[39m\u001B[38;5;124mgenres\u001B[39m\u001B[38;5;124m'\u001B[39m, \u001B[38;5;124m'\u001B[39m\u001B[38;5;124mcategories\u001B[39m\u001B[38;5;124m'\u001B[39m, \u001B[38;5;124m'\u001B[39m\u001B[38;5;124mtags\u001B[39m\u001B[38;5;124m'\u001B[39m, \u001B[38;5;124m'\u001B[39m\u001B[38;5;124mplatforms\u001B[39m\u001B[38;5;124m'\u001B[39m], []]\n",
      "Cell \u001B[0;32mIn[6], line 3\u001B[0m\n\u001B[1;32m      1\u001B[0m \u001B[38;5;28;01mimport\u001B[39;00m \u001B[38;5;21;01mmath\u001B[39;00m\n\u001B[1;32m      2\u001B[0m \u001B[38;5;28;01mimport\u001B[39;00m \u001B[38;5;21;01mcsv\u001B[39;00m\n\u001B[0;32m----> 3\u001B[0m input_names \u001B[38;5;241m=\u001B[39m [\u001B[43mpath\u001B[49m\u001B[38;5;241m+\u001B[39m\u001B[38;5;124m'\u001B[39m\u001B[38;5;124m/steam_media_data.csv\u001B[39m\u001B[38;5;124m'\u001B[39m, path\u001B[38;5;241m+\u001B[39m\u001B[38;5;124m'\u001B[39m\u001B[38;5;124m/steam.csv\u001B[39m\u001B[38;5;124m'\u001B[39m, path\u001B[38;5;241m+\u001B[39m\u001B[38;5;124m'\u001B[39m\u001B[38;5;124m/steam_description_data.csv\u001B[39m\u001B[38;5;124m'\u001B[39m]\n\u001B[1;32m      4\u001B[0m fields_to_jsonize \u001B[38;5;241m=\u001B[39m [[\u001B[38;5;124m'\u001B[39m\u001B[38;5;124mscreenshots\u001B[39m\u001B[38;5;124m'\u001B[39m, \u001B[38;5;124m'\u001B[39m\u001B[38;5;124mmovies\u001B[39m\u001B[38;5;124m'\u001B[39m], [], []]\n\u001B[1;32m      5\u001B[0m fields_to_lisfiy \u001B[38;5;241m=\u001B[39m [[], [\u001B[38;5;124m'\u001B[39m\u001B[38;5;124mgenres\u001B[39m\u001B[38;5;124m'\u001B[39m, \u001B[38;5;124m'\u001B[39m\u001B[38;5;124mcategories\u001B[39m\u001B[38;5;124m'\u001B[39m, \u001B[38;5;124m'\u001B[39m\u001B[38;5;124mtags\u001B[39m\u001B[38;5;124m'\u001B[39m, \u001B[38;5;124m'\u001B[39m\u001B[38;5;124mplatforms\u001B[39m\u001B[38;5;124m'\u001B[39m], []]\n",
      "File \u001B[0;32m_pydevd_bundle/pydevd_cython_darwin_311_64.pyx:1187\u001B[0m, in \u001B[0;36m_pydevd_bundle.pydevd_cython_darwin_311_64.SafeCallWrapper.__call__\u001B[0;34m()\u001B[0m\n",
      "File \u001B[0;32m_pydevd_bundle/pydevd_cython_darwin_311_64.pyx:627\u001B[0m, in \u001B[0;36m_pydevd_bundle.pydevd_cython_darwin_311_64.PyDBFrame.trace_dispatch\u001B[0;34m()\u001B[0m\n",
      "File \u001B[0;32m_pydevd_bundle/pydevd_cython_darwin_311_64.pyx:1103\u001B[0m, in \u001B[0;36m_pydevd_bundle.pydevd_cython_darwin_311_64.PyDBFrame.trace_dispatch\u001B[0;34m()\u001B[0m\n",
      "File \u001B[0;32m_pydevd_bundle/pydevd_cython_darwin_311_64.pyx:1061\u001B[0m, in \u001B[0;36m_pydevd_bundle.pydevd_cython_darwin_311_64.PyDBFrame.trace_dispatch\u001B[0;34m()\u001B[0m\n",
      "File \u001B[0;32m/Applications/PyCharm.app/Contents/plugins/python/helpers-pro/jupyter_debug/pydev_jupyter_plugin.py:169\u001B[0m, in \u001B[0;36mstop\u001B[0;34m(plugin, pydb, frame, event, args, stop_info, arg, step_cmd)\u001B[0m\n\u001B[1;32m    167\u001B[0m     frame \u001B[38;5;241m=\u001B[39m suspend_jupyter(main_debugger, thread, frame, step_cmd)\n\u001B[1;32m    168\u001B[0m     \u001B[38;5;28;01mif\u001B[39;00m frame:\n\u001B[0;32m--> 169\u001B[0m         \u001B[43mmain_debugger\u001B[49m\u001B[38;5;241;43m.\u001B[39;49m\u001B[43mdo_wait_suspend\u001B[49m\u001B[43m(\u001B[49m\u001B[43mthread\u001B[49m\u001B[43m,\u001B[49m\u001B[43m \u001B[49m\u001B[43mframe\u001B[49m\u001B[43m,\u001B[49m\u001B[43m \u001B[49m\u001B[43mevent\u001B[49m\u001B[43m,\u001B[49m\u001B[43m \u001B[49m\u001B[43marg\u001B[49m\u001B[43m)\u001B[49m\n\u001B[1;32m    170\u001B[0m         \u001B[38;5;28;01mreturn\u001B[39;00m \u001B[38;5;28;01mTrue\u001B[39;00m\n\u001B[1;32m    171\u001B[0m \u001B[38;5;28;01mreturn\u001B[39;00m \u001B[38;5;28;01mFalse\u001B[39;00m\n",
      "File \u001B[0;32m/Applications/PyCharm.app/Contents/plugins/python-ce/helpers/pydev/pydevd.py:1220\u001B[0m, in \u001B[0;36mPyDB.do_wait_suspend\u001B[0;34m(self, thread, frame, event, arg, send_suspend_message, is_unhandled_exception)\u001B[0m\n\u001B[1;32m   1217\u001B[0m         from_this_thread\u001B[38;5;241m.\u001B[39mappend(frame_id)\n\u001B[1;32m   1219\u001B[0m \u001B[38;5;28;01mwith\u001B[39;00m \u001B[38;5;28mself\u001B[39m\u001B[38;5;241m.\u001B[39m_threads_suspended_single_notification\u001B[38;5;241m.\u001B[39mnotify_thread_suspended(thread_id, stop_reason):\n\u001B[0;32m-> 1220\u001B[0m     \u001B[38;5;28;43mself\u001B[39;49m\u001B[38;5;241;43m.\u001B[39;49m\u001B[43m_do_wait_suspend\u001B[49m\u001B[43m(\u001B[49m\u001B[43mthread\u001B[49m\u001B[43m,\u001B[49m\u001B[43m \u001B[49m\u001B[43mframe\u001B[49m\u001B[43m,\u001B[49m\u001B[43m \u001B[49m\u001B[43mevent\u001B[49m\u001B[43m,\u001B[49m\u001B[43m \u001B[49m\u001B[43marg\u001B[49m\u001B[43m,\u001B[49m\u001B[43m \u001B[49m\u001B[43msuspend_type\u001B[49m\u001B[43m,\u001B[49m\u001B[43m \u001B[49m\u001B[43mfrom_this_thread\u001B[49m\u001B[43m)\u001B[49m\n",
      "File \u001B[0;32m/Applications/PyCharm.app/Contents/plugins/python-ce/helpers/pydev/pydevd.py:1235\u001B[0m, in \u001B[0;36mPyDB._do_wait_suspend\u001B[0;34m(self, thread, frame, event, arg, suspend_type, from_this_thread)\u001B[0m\n\u001B[1;32m   1232\u001B[0m             \u001B[38;5;28mself\u001B[39m\u001B[38;5;241m.\u001B[39m_call_mpl_hook()\n\u001B[1;32m   1234\u001B[0m         \u001B[38;5;28mself\u001B[39m\u001B[38;5;241m.\u001B[39mprocess_internal_commands()\n\u001B[0;32m-> 1235\u001B[0m         \u001B[43mtime\u001B[49m\u001B[38;5;241;43m.\u001B[39;49m\u001B[43msleep\u001B[49m\u001B[43m(\u001B[49m\u001B[38;5;241;43m0.01\u001B[39;49m\u001B[43m)\u001B[49m\n\u001B[1;32m   1237\u001B[0m \u001B[38;5;28mself\u001B[39m\u001B[38;5;241m.\u001B[39mcancel_async_evaluation(get_current_thread_id(thread), \u001B[38;5;28mstr\u001B[39m(\u001B[38;5;28mid\u001B[39m(frame)))\n\u001B[1;32m   1239\u001B[0m \u001B[38;5;66;03m# process any stepping instructions\u001B[39;00m\n",
      "\u001B[0;31mKeyboardInterrupt\u001B[0m: "
     ]
    }
   ],
   "execution_count": 6
  },
  {
   "metadata": {
    "ExecuteTime": {
     "end_time": "2024-12-29T12:11:24.058952Z",
     "start_time": "2024-12-29T12:11:21.997070Z"
    }
   },
   "cell_type": "code",
   "source": [
    "import csv\n",
    "import re\n",
    "\n",
    "def remove_non_double_quotes(input_csv, output_csv):\n",
    "    \"\"\"\n",
    "    Removes all types of quotes except for double quotes from a CSV file.\n",
    "\n",
    "    Args:\n",
    "        input_csv (str): Path to the input CSV file.\n",
    "        output_csv (str): Path to the output CSV file.\n",
    "    \"\"\"\n",
    "    with open(input_csv, 'r', newline='', encoding='utf-8') as infile, \\\n",
    "         open(output_csv, 'w', newline='', encoding='utf-8') as outfile:\n",
    "\n",
    "        # Read the CSV\n",
    "        reader = csv.reader(infile)\n",
    "        writer = csv.writer(outfile)\n",
    "\n",
    "        for row in reader:\n",
    "           # Remove unwanted quotes from each field\n",
    "            cleaned_row = [re.sub(r\"[`'\\\\\\\"]\", '', field) for field in row]\n",
    "            writer.writerow(cleaned_row)\n",
    "\n",
    "# Example usage\n",
    "input_csv = 'steam_description_data.csv'\n",
    "output_csv = 'desc_unsecaped.csv'\n",
    "remove_non_double_quotes(input_csv, output_csv)"
   ],
   "id": "b31c7d97f322feb2",
   "outputs": [],
   "execution_count": 9
  }
 ],
 "metadata": {
  "kernelspec": {
   "display_name": "Python 3",
   "language": "python",
   "name": "python3"
  },
  "language_info": {
   "codemirror_mode": {
    "name": "ipython",
    "version": 2
   },
   "file_extension": ".py",
   "mimetype": "text/x-python",
   "name": "python",
   "nbconvert_exporter": "python",
   "pygments_lexer": "ipython2",
   "version": "2.7.6"
  }
 },
 "nbformat": 4,
 "nbformat_minor": 5
}
