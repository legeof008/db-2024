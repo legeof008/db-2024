{
 "cells": [
  {
   "cell_type": "code",
   "execution_count": 21,
   "id": "initial_id",
   "metadata": {
    "collapsed": true,
    "ExecuteTime": {
     "end_time": "2024-11-19T14:30:01.817752189Z",
     "start_time": "2024-11-19T14:30:00.546705127Z"
    }
   },
   "outputs": [],
   "source": [
    "import pandas\n",
    "import json\n",
    "import pandas as pd\n",
    "\n",
    "media_df = pd.read_csv('steam_media_data.csv', index_col=False)\n",
    "steam_df = pd.read_csv('steam.csv', index_col=False)\n",
    "description = pd.read_csv('steam_description_data.csv', index_col=False)"
   ]
  },
  {
   "cell_type": "code",
   "execution_count": 22,
   "outputs": [
    {
     "data": {
      "text/plain": "Index(['steam_appid', 'header_image', 'screenshots', 'background', 'movies'], dtype='object')"
     },
     "execution_count": 22,
     "metadata": {},
     "output_type": "execute_result"
    }
   ],
   "source": [
    "media_df.columns"
   ],
   "metadata": {
    "collapsed": false,
    "ExecuteTime": {
     "end_time": "2024-11-19T14:30:01.821644314Z",
     "start_time": "2024-11-19T14:30:01.819021585Z"
    }
   },
   "id": "1d2f7e74163167ec"
  },
  {
   "cell_type": "code",
   "execution_count": 23,
   "outputs": [
    {
     "data": {
      "text/plain": "Index(['appid', 'name', 'release_date', 'english', 'developer', 'publisher',\n       'platforms', 'required_age', 'categories', 'genres', 'steamspy_tags',\n       'achievements', 'positive_ratings', 'negative_ratings',\n       'average_playtime', 'median_playtime', 'owners', 'price'],\n      dtype='object')"
     },
     "execution_count": 23,
     "metadata": {},
     "output_type": "execute_result"
    }
   ],
   "source": [
    "steam_df.columns"
   ],
   "metadata": {
    "collapsed": false,
    "ExecuteTime": {
     "end_time": "2024-11-19T14:30:01.866411716Z",
     "start_time": "2024-11-19T14:30:01.821442284Z"
    }
   },
   "id": "818162416e207a8c"
  },
  {
   "cell_type": "code",
   "execution_count": 24,
   "outputs": [
    {
     "data": {
      "text/plain": "Index(['steam_appid', 'detailed_description', 'about_the_game',\n       'short_description'],\n      dtype='object')"
     },
     "execution_count": 24,
     "metadata": {},
     "output_type": "execute_result"
    }
   ],
   "source": [
    "description.columns"
   ],
   "metadata": {
    "collapsed": false,
    "ExecuteTime": {
     "end_time": "2024-11-19T14:30:01.866989124Z",
     "start_time": "2024-11-19T14:30:01.839432009Z"
    }
   },
   "id": "e042627f9d0299e9"
  },
  {
   "cell_type": "code",
   "execution_count": 25,
   "outputs": [
    {
     "data": {
      "text/plain": "    appid                            name release_date  english  \\\n0      10                  Counter-Strike   2000-11-01        1   \n1      20           Team Fortress Classic   1999-04-01        1   \n2      30                   Day of Defeat   2003-05-01        1   \n3      40              Deathmatch Classic   2001-06-01        1   \n4      50       Half-Life: Opposing Force   1999-11-01        1   \n5      60                        Ricochet   2000-11-01        1   \n6      70                       Half-Life   1998-11-08        1   \n7      80  Counter-Strike: Condition Zero   2004-03-01        1   \n8     130           Half-Life: Blue Shift   2001-06-01        1   \n9     220                     Half-Life 2   2004-11-16        1   \n10    240          Counter-Strike: Source   2004-11-01        1   \n11    280               Half-Life: Source   2004-06-01        1   \n12    300           Day of Defeat: Source   2010-07-12        1   \n13    320         Half-Life 2: Deathmatch   2004-11-01        1   \n14    340         Half-Life 2: Lost Coast   2005-10-27        1   \n15    360    Half-Life Deathmatch: Source   2006-05-01        1   \n16    380        Half-Life 2: Episode One   2006-06-01        1   \n17    400                          Portal   2007-10-10        1   \n18    420        Half-Life 2: Episode Two   2007-10-10        1   \n19    440                 Team Fortress 2   2007-10-10        1   \n\n           developer publisher          platforms  \\\n0              Valve     Valve  windows;mac;linux   \n1              Valve     Valve  windows;mac;linux   \n2              Valve     Valve  windows;mac;linux   \n3              Valve     Valve  windows;mac;linux   \n4   Gearbox Software     Valve  windows;mac;linux   \n5              Valve     Valve  windows;mac;linux   \n6              Valve     Valve  windows;mac;linux   \n7              Valve     Valve  windows;mac;linux   \n8   Gearbox Software     Valve  windows;mac;linux   \n9              Valve     Valve  windows;mac;linux   \n10             Valve     Valve  windows;mac;linux   \n11             Valve     Valve  windows;mac;linux   \n12             Valve     Valve  windows;mac;linux   \n13             Valve     Valve  windows;mac;linux   \n14             Valve     Valve  windows;mac;linux   \n15             Valve     Valve  windows;mac;linux   \n16             Valve     Valve  windows;mac;linux   \n17             Valve     Valve  windows;mac;linux   \n18             Valve     Valve  windows;mac;linux   \n19             Valve     Valve  windows;mac;linux   \n\n                                           categories               genres  \\\n0   Multi-player;Online Multi-Player;Local Multi-P...               Action   \n1   Multi-player;Online Multi-Player;Local Multi-P...               Action   \n2               Multi-player;Valve Anti-Cheat enabled               Action   \n3   Multi-player;Online Multi-Player;Local Multi-P...               Action   \n4   Single-player;Multi-player;Valve Anti-Cheat en...               Action   \n5   Multi-player;Online Multi-Player;Valve Anti-Ch...               Action   \n6   Single-player;Multi-player;Online Multi-Player...               Action   \n7   Single-player;Multi-player;Valve Anti-Cheat en...               Action   \n8                                       Single-player               Action   \n9   Single-player;Steam Achievements;Steam Trading...               Action   \n10  Multi-player;Cross-Platform Multiplayer;Steam ...               Action   \n11                                      Single-player               Action   \n12  Multi-player;Cross-Platform Multiplayer;Steam ...               Action   \n13  Multi-player;Valve Anti-Cheat enabled;Includes...               Action   \n14                 Single-player;Commentary available               Action   \n15              Multi-player;Valve Anti-Cheat enabled               Action   \n16  Single-player;Steam Achievements;Captions avai...               Action   \n17  Single-player;Steam Achievements;Captions avai...               Action   \n18  Single-player;Steam Achievements;Captions avai...               Action   \n19  Multi-player;Cross-Platform Multiplayer;Steam ...  Action;Free to Play   \n\n    price  \n0    7.19  \n1    3.99  \n2    3.99  \n3    3.99  \n4    3.99  \n5    3.99  \n6    7.19  \n7    7.19  \n8    3.99  \n9    7.19  \n10   7.19  \n11   0.00  \n12   7.19  \n13   3.99  \n14   0.00  \n15   0.00  \n16   5.79  \n17   7.19  \n18   5.79  \n19   0.00  ",
      "text/html": "<div>\n<style scoped>\n    .dataframe tbody tr th:only-of-type {\n        vertical-align: middle;\n    }\n\n    .dataframe tbody tr th {\n        vertical-align: top;\n    }\n\n    .dataframe thead th {\n        text-align: right;\n    }\n</style>\n<table border=\"1\" class=\"dataframe\">\n  <thead>\n    <tr style=\"text-align: right;\">\n      <th></th>\n      <th>appid</th>\n      <th>name</th>\n      <th>release_date</th>\n      <th>english</th>\n      <th>developer</th>\n      <th>publisher</th>\n      <th>platforms</th>\n      <th>categories</th>\n      <th>genres</th>\n      <th>price</th>\n    </tr>\n  </thead>\n  <tbody>\n    <tr>\n      <th>0</th>\n      <td>10</td>\n      <td>Counter-Strike</td>\n      <td>2000-11-01</td>\n      <td>1</td>\n      <td>Valve</td>\n      <td>Valve</td>\n      <td>windows;mac;linux</td>\n      <td>Multi-player;Online Multi-Player;Local Multi-P...</td>\n      <td>Action</td>\n      <td>7.19</td>\n    </tr>\n    <tr>\n      <th>1</th>\n      <td>20</td>\n      <td>Team Fortress Classic</td>\n      <td>1999-04-01</td>\n      <td>1</td>\n      <td>Valve</td>\n      <td>Valve</td>\n      <td>windows;mac;linux</td>\n      <td>Multi-player;Online Multi-Player;Local Multi-P...</td>\n      <td>Action</td>\n      <td>3.99</td>\n    </tr>\n    <tr>\n      <th>2</th>\n      <td>30</td>\n      <td>Day of Defeat</td>\n      <td>2003-05-01</td>\n      <td>1</td>\n      <td>Valve</td>\n      <td>Valve</td>\n      <td>windows;mac;linux</td>\n      <td>Multi-player;Valve Anti-Cheat enabled</td>\n      <td>Action</td>\n      <td>3.99</td>\n    </tr>\n    <tr>\n      <th>3</th>\n      <td>40</td>\n      <td>Deathmatch Classic</td>\n      <td>2001-06-01</td>\n      <td>1</td>\n      <td>Valve</td>\n      <td>Valve</td>\n      <td>windows;mac;linux</td>\n      <td>Multi-player;Online Multi-Player;Local Multi-P...</td>\n      <td>Action</td>\n      <td>3.99</td>\n    </tr>\n    <tr>\n      <th>4</th>\n      <td>50</td>\n      <td>Half-Life: Opposing Force</td>\n      <td>1999-11-01</td>\n      <td>1</td>\n      <td>Gearbox Software</td>\n      <td>Valve</td>\n      <td>windows;mac;linux</td>\n      <td>Single-player;Multi-player;Valve Anti-Cheat en...</td>\n      <td>Action</td>\n      <td>3.99</td>\n    </tr>\n    <tr>\n      <th>5</th>\n      <td>60</td>\n      <td>Ricochet</td>\n      <td>2000-11-01</td>\n      <td>1</td>\n      <td>Valve</td>\n      <td>Valve</td>\n      <td>windows;mac;linux</td>\n      <td>Multi-player;Online Multi-Player;Valve Anti-Ch...</td>\n      <td>Action</td>\n      <td>3.99</td>\n    </tr>\n    <tr>\n      <th>6</th>\n      <td>70</td>\n      <td>Half-Life</td>\n      <td>1998-11-08</td>\n      <td>1</td>\n      <td>Valve</td>\n      <td>Valve</td>\n      <td>windows;mac;linux</td>\n      <td>Single-player;Multi-player;Online Multi-Player...</td>\n      <td>Action</td>\n      <td>7.19</td>\n    </tr>\n    <tr>\n      <th>7</th>\n      <td>80</td>\n      <td>Counter-Strike: Condition Zero</td>\n      <td>2004-03-01</td>\n      <td>1</td>\n      <td>Valve</td>\n      <td>Valve</td>\n      <td>windows;mac;linux</td>\n      <td>Single-player;Multi-player;Valve Anti-Cheat en...</td>\n      <td>Action</td>\n      <td>7.19</td>\n    </tr>\n    <tr>\n      <th>8</th>\n      <td>130</td>\n      <td>Half-Life: Blue Shift</td>\n      <td>2001-06-01</td>\n      <td>1</td>\n      <td>Gearbox Software</td>\n      <td>Valve</td>\n      <td>windows;mac;linux</td>\n      <td>Single-player</td>\n      <td>Action</td>\n      <td>3.99</td>\n    </tr>\n    <tr>\n      <th>9</th>\n      <td>220</td>\n      <td>Half-Life 2</td>\n      <td>2004-11-16</td>\n      <td>1</td>\n      <td>Valve</td>\n      <td>Valve</td>\n      <td>windows;mac;linux</td>\n      <td>Single-player;Steam Achievements;Steam Trading...</td>\n      <td>Action</td>\n      <td>7.19</td>\n    </tr>\n    <tr>\n      <th>10</th>\n      <td>240</td>\n      <td>Counter-Strike: Source</td>\n      <td>2004-11-01</td>\n      <td>1</td>\n      <td>Valve</td>\n      <td>Valve</td>\n      <td>windows;mac;linux</td>\n      <td>Multi-player;Cross-Platform Multiplayer;Steam ...</td>\n      <td>Action</td>\n      <td>7.19</td>\n    </tr>\n    <tr>\n      <th>11</th>\n      <td>280</td>\n      <td>Half-Life: Source</td>\n      <td>2004-06-01</td>\n      <td>1</td>\n      <td>Valve</td>\n      <td>Valve</td>\n      <td>windows;mac;linux</td>\n      <td>Single-player</td>\n      <td>Action</td>\n      <td>0.00</td>\n    </tr>\n    <tr>\n      <th>12</th>\n      <td>300</td>\n      <td>Day of Defeat: Source</td>\n      <td>2010-07-12</td>\n      <td>1</td>\n      <td>Valve</td>\n      <td>Valve</td>\n      <td>windows;mac;linux</td>\n      <td>Multi-player;Cross-Platform Multiplayer;Steam ...</td>\n      <td>Action</td>\n      <td>7.19</td>\n    </tr>\n    <tr>\n      <th>13</th>\n      <td>320</td>\n      <td>Half-Life 2: Deathmatch</td>\n      <td>2004-11-01</td>\n      <td>1</td>\n      <td>Valve</td>\n      <td>Valve</td>\n      <td>windows;mac;linux</td>\n      <td>Multi-player;Valve Anti-Cheat enabled;Includes...</td>\n      <td>Action</td>\n      <td>3.99</td>\n    </tr>\n    <tr>\n      <th>14</th>\n      <td>340</td>\n      <td>Half-Life 2: Lost Coast</td>\n      <td>2005-10-27</td>\n      <td>1</td>\n      <td>Valve</td>\n      <td>Valve</td>\n      <td>windows;mac;linux</td>\n      <td>Single-player;Commentary available</td>\n      <td>Action</td>\n      <td>0.00</td>\n    </tr>\n    <tr>\n      <th>15</th>\n      <td>360</td>\n      <td>Half-Life Deathmatch: Source</td>\n      <td>2006-05-01</td>\n      <td>1</td>\n      <td>Valve</td>\n      <td>Valve</td>\n      <td>windows;mac;linux</td>\n      <td>Multi-player;Valve Anti-Cheat enabled</td>\n      <td>Action</td>\n      <td>0.00</td>\n    </tr>\n    <tr>\n      <th>16</th>\n      <td>380</td>\n      <td>Half-Life 2: Episode One</td>\n      <td>2006-06-01</td>\n      <td>1</td>\n      <td>Valve</td>\n      <td>Valve</td>\n      <td>windows;mac;linux</td>\n      <td>Single-player;Steam Achievements;Captions avai...</td>\n      <td>Action</td>\n      <td>5.79</td>\n    </tr>\n    <tr>\n      <th>17</th>\n      <td>400</td>\n      <td>Portal</td>\n      <td>2007-10-10</td>\n      <td>1</td>\n      <td>Valve</td>\n      <td>Valve</td>\n      <td>windows;mac;linux</td>\n      <td>Single-player;Steam Achievements;Captions avai...</td>\n      <td>Action</td>\n      <td>7.19</td>\n    </tr>\n    <tr>\n      <th>18</th>\n      <td>420</td>\n      <td>Half-Life 2: Episode Two</td>\n      <td>2007-10-10</td>\n      <td>1</td>\n      <td>Valve</td>\n      <td>Valve</td>\n      <td>windows;mac;linux</td>\n      <td>Single-player;Steam Achievements;Captions avai...</td>\n      <td>Action</td>\n      <td>5.79</td>\n    </tr>\n    <tr>\n      <th>19</th>\n      <td>440</td>\n      <td>Team Fortress 2</td>\n      <td>2007-10-10</td>\n      <td>1</td>\n      <td>Valve</td>\n      <td>Valve</td>\n      <td>windows;mac;linux</td>\n      <td>Multi-player;Cross-Platform Multiplayer;Steam ...</td>\n      <td>Action;Free to Play</td>\n      <td>0.00</td>\n    </tr>\n  </tbody>\n</table>\n</div>"
     },
     "execution_count": 25,
     "metadata": {},
     "output_type": "execute_result"
    }
   ],
   "source": [
    "steam_df.drop(\n",
    "    ['required_age', 'steamspy_tags', 'achievements', 'positive_ratings', 'negative_ratings', 'average_playtime',\n",
    "     'median_playtime', 'owners'], axis=1, inplace=True)\n",
    "steam_df.head(20)"
   ],
   "metadata": {
    "collapsed": false,
    "ExecuteTime": {
     "end_time": "2024-11-19T14:30:01.915205449Z",
     "start_time": "2024-11-19T14:30:01.850361712Z"
    }
   },
   "id": "3a16029ab9c7dbef"
  },
  {
   "cell_type": "code",
   "execution_count": 36,
   "outputs": [],
   "source": [
    "all_data = [media_df, steam_df, description]\n",
    "fields_to_jsonize = [['screenshots', 'movies'], [], []]\n",
    "fields_to_lisfiy = [[], ['genres', 'categories', 'tags', 'platforms'], []]\n",
    "output_names = ['media.json', 'steam.json', 'description.json']\n",
    "\n",
    "\n",
    "def safe_json_parse(x):\n",
    "    try:\n",
    "        if isinstance(x, str) and x.strip():\n",
    "            return json.loads(x.replace(\"'\", '\"'))\n",
    "        else:\n",
    "            return []\n",
    "    except json.JSONDecodeError as e:\n",
    "        print(f\"JSONDecodeError for value: {x}\\nError: {e}\")\n",
    "        return []\n",
    "    except Exception as e:\n",
    "        print(f\"Unexpected error for value: {x}\\nError: {e}\")\n",
    "        return []\n",
    "\n",
    "\n",
    "for i in range(len(all_data)):\n",
    "    df = all_data[i]\n",
    "    json_array_fields = fields_to_jsonize[i]\n",
    "    list_fields = fields_to_lisfiy[i]\n",
    "    for field in json_array_fields:\n",
    "        if field and field in df.columns:\n",
    "            df[field] = df[field].apply(safe_json_parse)\n",
    "    for field in list_fields:\n",
    "        if field in df.columns:\n",
    "            df[field] = df[field].apply(lambda x: x.split(';') if isinstance(x, str) else x)\n",
    "    df.to_json(output_names[i], orient='records', lines=True)\n"
   ],
   "metadata": {
    "collapsed": false,
    "ExecuteTime": {
     "end_time": "2024-11-19T14:40:23.733836603Z",
     "start_time": "2024-11-19T14:40:23.277635567Z"
    }
   },
   "id": "184c822b3d238315"
  }
 ],
 "metadata": {
  "kernelspec": {
   "display_name": "Python 3",
   "language": "python",
   "name": "python3"
  },
  "language_info": {
   "codemirror_mode": {
    "name": "ipython",
    "version": 2
   },
   "file_extension": ".py",
   "mimetype": "text/x-python",
   "name": "python",
   "nbconvert_exporter": "python",
   "pygments_lexer": "ipython2",
   "version": "2.7.6"
  }
 },
 "nbformat": 4,
 "nbformat_minor": 5
}
